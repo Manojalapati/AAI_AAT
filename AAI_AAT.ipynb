{
  "nbformat": 4,
  "nbformat_minor": 0,
  "metadata": {
    "colab": {
      "provenance": []
    },
    "kernelspec": {
      "name": "python3",
      "display_name": "Python 3"
    },
    "language_info": {
      "name": "python"
    }
  },
  "cells": [
    {
      "cell_type": "code",
      "source": [
        "!pip install ortools"
      ],
      "metadata": {
        "colab": {
          "base_uri": "https://localhost:8080/"
        },
        "id": "P2fXKLrzBpGO",
        "outputId": "124e0bc8-909b-4371-9a71-a7ecf63f931e"
      },
      "execution_count": null,
      "outputs": [
        {
          "output_type": "stream",
          "name": "stdout",
          "text": [
            "Looking in indexes: https://pypi.org/simple, https://us-python.pkg.dev/colab-wheels/public/simple/\n",
            "Collecting ortools\n",
            "  Downloading ortools-9.6.2534-cp310-cp310-manylinux_2_17_x86_64.manylinux2014_x86_64.whl (16.4 MB)\n",
            "\u001b[2K     \u001b[90m━━━━━━━━━━━━━━━━━━━━━━━━━━━━━━━━━━━━━━━━\u001b[0m \u001b[32m16.4/16.4 MB\u001b[0m \u001b[31m63.8 MB/s\u001b[0m eta \u001b[36m0:00:00\u001b[0m\n",
            "\u001b[?25hRequirement already satisfied: absl-py>=0.13 in /usr/local/lib/python3.10/dist-packages (from ortools) (1.4.0)\n",
            "Requirement already satisfied: numpy>=1.13.3 in /usr/local/lib/python3.10/dist-packages (from ortools) (1.22.4)\n",
            "Collecting protobuf>=4.21.12 (from ortools)\n",
            "  Downloading protobuf-4.23.3-cp37-abi3-manylinux2014_x86_64.whl (304 kB)\n",
            "\u001b[2K     \u001b[90m━━━━━━━━━━━━━━━━━━━━━━━━━━━━━━━━━━━━━━\u001b[0m \u001b[32m304.5/304.5 kB\u001b[0m \u001b[31m31.5 MB/s\u001b[0m eta \u001b[36m0:00:00\u001b[0m\n",
            "\u001b[?25hRequirement already satisfied: scipy>=1.10.0 in /usr/local/lib/python3.10/dist-packages (from ortools) (1.10.1)\n",
            "Installing collected packages: protobuf, ortools\n",
            "  Attempting uninstall: protobuf\n",
            "    Found existing installation: protobuf 3.20.3\n",
            "    Uninstalling protobuf-3.20.3:\n",
            "      Successfully uninstalled protobuf-3.20.3\n",
            "Successfully installed ortools-9.6.2534 protobuf-4.23.3\n"
          ]
        }
      ]
    },
    {
      "cell_type": "code",
      "source": [
        "from ortools.linear_solver import pywraplp\n",
        "\n",
        "def prisoners_dilemma(num_rounds):\n",
        "    # Define the payoffs\n",
        "    payoff = [[(2, 2), (0, 5)],\n",
        "              [(5, 0), (3, 3)]]\n",
        "\n",
        "    # Create the solver\n",
        "    solver = pywraplp.Solver.CreateSolver('GLOP')\n",
        "\n",
        "    # Create variables\n",
        "    player1_strategy = [solver.BoolVar('Player1_strategy{}'.format(i+1)) for i in range(num_rounds)]\n",
        "    player2_strategy = [solver.BoolVar('Player2_strategy{}'.format(i+1)) for i in range(num_rounds)]\n",
        "\n",
        "    # Set objective function\n",
        "    objective = solver.Objective()\n",
        "    for i in range(num_rounds):\n",
        "        objective.SetCoefficient(player1_strategy[i], payoff[0][0][1] if i == 0 else payoff[0][1][1])\n",
        "        objective.SetCoefficient(player2_strategy[i], payoff[1][0][1] if i == 0 else payoff[1][1][1])\n",
        "    objective.SetMaximization()\n",
        "\n",
        "    # Add constraints\n",
        "    for i in range(num_rounds):\n",
        "        constraint = solver.Constraint(1, 1)\n",
        "        constraint.SetCoefficient(player1_strategy[i], 1)\n",
        "        constraint.SetCoefficient(player2_strategy[i], 1)\n",
        "\n",
        "        if i > 0:\n",
        "            constraint = solver.Constraint(0, 1)\n",
        "            constraint.SetCoefficient(player1_strategy[i], 1)\n",
        "            constraint.SetCoefficient(player1_strategy[i - 1], 1)\n",
        "\n",
        "            constraint = solver.Constraint(0, 1)\n",
        "            constraint.SetCoefficient(player2_strategy[i], 1)\n",
        "            constraint.SetCoefficient(player2_strategy[i - 1], 1)\n",
        "\n",
        "    # Solve the problem\n",
        "    solver.Solve()\n",
        "\n",
        "    # Print the results\n",
        "    print('Player 1 strategy:')\n",
        "    for i in range(num_rounds):\n",
        "        strategy = 'Cooperate' if player1_strategy[i].solution_value() else 'Betrays'\n",
        "        print('Round {}: {}'.format(i+1, strategy))\n",
        "\n",
        "    print('Player 2 strategy:')\n",
        "    for i in range(num_rounds):\n",
        "        strategy = 'Cooperate' if player2_strategy[i].solution_value() else 'Betrays'\n",
        "        print('Round {}: {}'.format(i+1, strategy))\n",
        "\n",
        "    print('Player 1 payoff:', objective.Value())\n",
        "    print('Player 2 payoff:', num_rounds - objective.Value())\n",
        "\n",
        "# Run the simulation for 5 rounds\n",
        "prisoners_dilemma(5)"
      ],
      "metadata": {
        "colab": {
          "base_uri": "https://localhost:8080/"
        },
        "id": "UGX9eW7dGHUJ",
        "outputId": "d58a7db2-f4ac-4856-91e3-00baa82bd428"
      },
      "execution_count": null,
      "outputs": [
        {
          "output_type": "stream",
          "name": "stdout",
          "text": [
            "Player 1 strategy:\n",
            "Round 1: Cooperate\n",
            "Round 2: Betrays\n",
            "Round 3: Cooperate\n",
            "Round 4: Betrays\n",
            "Round 5: Cooperate\n",
            "Player 2 strategy:\n",
            "Round 1: Betrays\n",
            "Round 2: Cooperate\n",
            "Round 3: Betrays\n",
            "Round 4: Cooperate\n",
            "Round 5: Betrays\n",
            "Player 1 payoff: 18.0\n",
            "Player 2 payoff: -13.0\n"
          ]
        }
      ]
    },
    {
      "cell_type": "code",
      "source": [],
      "metadata": {
        "id": "OZyGeQgcG16Z"
      },
      "execution_count": null,
      "outputs": []
    }
  ]
}