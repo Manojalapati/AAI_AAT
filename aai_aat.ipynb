!pip install ortools


from ortools.linear_solver import pywraplp

def prisoners_dilemma(num_rounds):
    # Define the payoffs
    payoff = [[(2, 2), (0, 5)],
              [(5, 0), (3, 3)]]

    # Create the solver
    solver = pywraplp.Solver.CreateSolver('GLOP')

    # Create variables
    player1_strategy = [solver.BoolVar('Player1_strategy{}'.format(i+1)) for i in range(num_rounds)]
    player2_strategy = [solver.BoolVar('Player2_strategy{}'.format(i+1)) for i in range(num_rounds)]

    # Set objective function
    objective = solver.Objective()
    for i in range(num_rounds):
        objective.SetCoefficient(player1_strategy[i], payoff[0][0][1] if i == 0 else payoff[0][1][1])
        objective.SetCoefficient(player2_strategy[i], payoff[1][0][1] if i == 0 else payoff[1][1][1])
    objective.SetMaximization()

    # Add constraints
    for i in range(num_rounds):
        constraint = solver.Constraint(1, 1)
        constraint.SetCoefficient(player1_strategy[i], 1)
        constraint.SetCoefficient(player2_strategy[i], 1)

        if i > 0:
            constraint = solver.Constraint(0, 1)
            constraint.SetCoefficient(player1_strategy[i], 1)
            constraint.SetCoefficient(player1_strategy[i - 1], 1)

            constraint = solver.Constraint(0, 1)
            constraint.SetCoefficient(player2_strategy[i], 1)
            constraint.SetCoefficient(player2_strategy[i - 1], 1)

    # Solve the problem
    solver.Solve()

    # Print the results
    print('Player 1 strategy:')
    for i in range(num_rounds):
        strategy = 'Cooperate' if player1_strategy[i].solution_value() else 'Betrays'
        print('Round {}: {}'.format(i+1, strategy))

    print('Player 2 strategy:')
    for i in range(num_rounds):
        strategy = 'Cooperate' if player2_strategy[i].solution_value() else 'Betrays'
        print('Round {}: {}'.format(i+1, strategy))

    print('Player 1 payoff:', objective.Value())
    print('Player 2 payoff:', num_rounds - objective.Value())

# Run the simulation for 5 rounds
prisoners_dilemma(5)
